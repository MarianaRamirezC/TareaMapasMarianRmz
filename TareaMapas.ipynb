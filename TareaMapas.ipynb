{
 "cells": [
  {
   "cell_type": "markdown",
   "metadata": {},
   "source": [
    "# Mariana Ramírez"
   ]
  },
  {
   "cell_type": "code",
   "execution_count": null,
   "metadata": {},
   "outputs": [],
   "source": [
    "import mapa from mapas\n",
    "import csv\n",
    "file=open('paises.csv')\n",
    "file=csv.reader(csv)"
   ]
  },
  {
   "cell_type": "markdown",
   "metadata": {},
   "source": [
    "# a) Crea un mapa que contenga los datos del archivo paises.csv en el año 2013 "
   ]
  },
  {
   "cell_type": "code",
   "execution_count": null,
   "metadata": {
    "collapsed": true
   },
   "outputs": [],
   "source": [
    "datos=mapa()\n",
    "\n",
    "for x in file\n",
    " if x[2]=='2013'\n",
    "    datos[x[0]]== x[1]"
   ]
  },
  {
   "cell_type": "markdown",
   "metadata": {},
   "source": [
    "# b) Obtén y mustra la expectativa de vida en Mexico, Guatemala, Belize, El Salvador y Nicaragua. "
   ]
  },
  {
   "cell_type": "code",
   "execution_count": null,
   "metadata": {
    "collapsed": true
   },
   "outputs": [],
   "source": [
    "print(datos['Mexico'])\n",
    "print(datos['Guatemala'])\n",
    "print(datos['Belize'])\n",
    "print(datos['Nicaragua'])\n",
    "print(datos['El Salvador'])"
   ]
  },
  {
   "cell_type": "markdown",
   "metadata": {},
   "source": [
    "# c) Encuentra la expectativa de vida para cada uno de los paises anteriores. "
   ]
  },
  {
   "cell_type": "code",
   "execution_count": null,
   "metadata": {
    "collapsed": true
   },
   "outputs": [],
   "source": []
  },
  {
   "cell_type": "markdown",
   "metadata": {},
   "source": [
    "# d) Obten la lista de todas las claves del mapa. "
   ]
  },
  {
   "cell_type": "code",
   "execution_count": null,
   "metadata": {
    "collapsed": true
   },
   "outputs": [],
   "source": [
    "lista=[j in datos{j}]\n",
    "print(lista)"
   ]
  },
  {
   "cell_type": "markdown",
   "metadata": {},
   "source": [
    "# e) Filtra la lista anterior para mostrar sólo los paises que empiezan con Ç”"
   ]
  },
  {
   "cell_type": "code",
   "execution_count": null,
   "metadata": {
    "collapsed": true
   },
   "outputs": [],
   "source": [
    "for x in listas\n",
    "    print(listas)\n",
    "    if lista[x[0]='Ç']\n",
    "    "
   ]
  },
  {
   "cell_type": "markdown",
   "metadata": {},
   "source": [
    "# f) Calcula el promedio de expectativa de vida para todos los paises que empiezan con C.\n"
   ]
  },
  {
   "cell_type": "code",
   "execution_count": null,
   "metadata": {
    "collapsed": true
   },
   "outputs": [],
   "source": [
    "if datos['C']\n",
    " contador+=1\n",
    " suma+=datos[]\n",
    " suma/contador=resultado\n",
    "print(resultado)"
   ]
  },
  {
   "cell_type": "markdown",
   "metadata": {},
   "source": [
    "# Ejercicio 2\n",
    "\n",
    "# a) Crea un mapa, analizando el texto al inicio de este ejercicio, que tenga como valores \n",
    "## Clave:Una letra minúscula \n",
    "## Valor:Las veces que aparece esa letra,ya sea mayúscula o minúscula en el texto "
   ]
  },
  {
   "cell_type": "code",
   "execution_count": null,
   "metadata": {
    "collapsed": true
   },
   "outputs": [],
   "source": [
    "texto='Feeling of Power Isaac Asimov Jehan Shuman was used to dealing with the men in authority on long-embattled earth. He was only a civilian but he originated programming patterns that resulted in self-directing war computers of the highest sort. Generals, consequently listened to him. Heads of congressional committees too. There was one of each in the special lounge of New Pentagon. General Weider was space-burned and had a small mouth puckered almost into a cipher. He smoked Denebian tobacco with the air of one whose patriotism was so notorious, he could be allowed such liberties. Shuman, tall, distinguished, and Programmer-first-class, faced them fearlessly. He said, \"This, gentlemen, is Myron Aub.\"\n",
    "\"The one with the unusual gift that you discovered quite by accident,\" said Congressman Brant placidly. \"Ah.\" He inspected the little man with the egg-bald head with amiable curiosity. The little man, in return, twisted the fingers of his hands anxiously. He had never been near such great men before. He was only an aging low-grade technician who had long ago failed all tests designed to smoke out the gifted ones among mankind and had settled into the rut of unskilled labor. There was just this hobby of his that the great Programmer had found out about and was now making such a frightening fuss over. General Weider said, \"I find this atmosphere of mystery childish.\" \"You won't in a moment,\" said Shuman. \"This is not something we can leak to the firstcomer. Aub!\" There was something imperative about his manner of biting off that one-syllable name, but then he was a great Programmer speaking to a mere technician. \"Aub! How much is nine times seven?\" Aub hesitated a moment. His pale eyes glimmered with a feeble anxiety. \"Sixty-three,\" he said. Congressman Brant lifted his eyebrows. \"Is that right?\" \"Check it for yourself, Congressman.\" The congressman took out his pocket computer, nudged the milled edges twice, looked at its face as it lay there in the palm of his hand, and put it back. He said, \"Is this the gift you brought us here to demonstrate. An illusionist?\" \"More than that, sir. Aub has memorized a few operations and with them he computes on paper.\" \"A paper computer?\" said the general. He looked pained. '\n",
    "inf=mapa()\n",
    "inf=texto\n",
    "for x in texto\n",
    "inf[]"
   ]
  },
  {
   "cell_type": "markdown",
   "metadata": {},
   "source": [
    "# b) Imprime cuántas vocales hay en el texto "
   ]
  },
  {
   "cell_type": "markdown",
   "metadata": {},
   "source": [
    "# c) Imprime cada pareja del mapa,enforma clave:valor "
   ]
  },
  {
   "cell_type": "markdown",
   "metadata": {},
   "source": [
    "# d) Imprime una lista que contenga , para cada letra de la a a la z,si está o no está en el texto. "
   ]
  },
  {
   "cell_type": "code",
   "execution_count": null,
   "metadata": {
    "collapsed": true
   },
   "outputs": [],
   "source": []
  }
 ],
 "metadata": {
  "kernelspec": {
   "display_name": "Python 3",
   "language": "python",
   "name": "python3"
  },
  "language_info": {
   "codemirror_mode": {
    "name": "ipython",
    "version": 3
   },
   "file_extension": ".py",
   "mimetype": "text/x-python",
   "name": "python",
   "nbconvert_exporter": "python",
   "pygments_lexer": "ipython3",
   "version": "3.6.1"
  }
 },
 "nbformat": 4,
 "nbformat_minor": 2
}
